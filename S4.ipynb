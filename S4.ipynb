{
 "cells": [
  {
   "cell_type": "code",
   "execution_count": 6,
   "metadata": {},
   "outputs": [],
   "source": [
    "import torch\n",
    "import torch.nn as nn\n",
    "import numpy as np"
   ]
  },
  {
   "cell_type": "markdown",
   "metadata": {},
   "source": [
    "## Positional encoding"
   ]
  },
  {
   "cell_type": "code",
   "execution_count": 7,
   "metadata": {},
   "outputs": [
    {
     "name": "stdout",
     "output_type": "stream",
     "text": [
      "tensor([[0.7774, 0.8131, 0.6594, 0.5415, 0.5143, 0.2169, 0.0884, 0.1885],\n",
      "        [0.7633, 0.0425, 0.1381, 0.0091, 0.3528, 0.4562, 0.7451, 0.3993],\n",
      "        [0.8992, 0.2223, 0.5386, 0.7455, 0.5620, 0.9105, 0.9984, 0.1968],\n",
      "        [0.9537, 0.4303, 0.8722, 0.0670, 0.5488, 0.9729, 0.8007, 0.1052],\n",
      "        [0.8107, 0.6405, 0.8227, 0.4783, 0.8361, 0.9865, 0.1872, 0.1324]])\n"
     ]
    }
   ],
   "source": [
    "\n",
    "def positional_encoding(seq_len, d_model):\n",
    "    pos = np.arange(seq_len)[:, np.newaxis]  # Posiciones (0, 1, 2, ..., seq_len-1)\n",
    "    div_term = np.exp(np.arange(0, d_model, 2) * -(np.log(10000.0) / d_model))\n",
    "    pe = np.zeros((seq_len, d_model))\n",
    "    pe[:, 0::2] = np.sin(pos * div_term)  # Dimensiones pares\n",
    "    pe[:, 1::2] = np.cos(pos * div_term)  # Dimensiones impares\n",
    "    return torch.tensor(pe, dtype=torch.float32)\n",
    "\n",
    "seq_len = 5\n",
    "d_model = 8\n",
    "\n",
    "word_embeddings = torch.rand((seq_len, d_model))\n",
    "\n",
    "print(word_embeddings)\n",
    "\n",
    "p_encodings = positional_encoding(seq_len, d_model)"
   ]
  },
  {
   "cell_type": "code",
   "execution_count": null,
   "metadata": {},
   "outputs": [
    {
     "name": "stdout",
     "output_type": "stream",
     "text": [
      "tensor([[[[ 0.3874,  0.5625,  0.2777,  ...,  0.0538, -0.7675,  0.3255],\n",
      "          [-0.5231,  0.0686, -0.7646,  ..., -0.3333, -1.1801, -0.3058],\n",
      "          [ 0.1424,  1.3370,  1.7840,  ...,  1.4382,  0.2049,  1.7636],\n",
      "          ...,\n",
      "          [-0.2945,  0.4926,  1.6081,  ..., -2.1482, -0.6398, -0.1501],\n",
      "          [-0.6209,  0.2143, -0.1692,  ..., -0.3000, -0.3444,  0.6260],\n",
      "          [-0.0095, -0.8084,  1.0602,  ...,  0.1893, -0.3067,  0.2766]],\n",
      "\n",
      "         [[ 0.4719,  0.1179, -0.3081,  ...,  0.3066, -0.1546,  0.1613],\n",
      "          [ 0.6738, -1.5925,  0.1230,  ..., -0.2579, -0.9604,  0.7034],\n",
      "          [ 0.0422, -0.8337,  0.1000,  ..., -1.4407, -0.9629,  0.0456],\n",
      "          ...,\n",
      "          [-0.1444,  1.4820, -0.6738,  ...,  0.0825, -2.5931,  1.4113],\n",
      "          [-0.0163,  1.8900,  0.5104,  ..., -0.2013, -0.3456, -0.1576],\n",
      "          [-0.1956,  0.1395,  0.5299,  ...,  1.5133, -1.1016,  0.5142]]]],\n",
      "       grad_fn=<NativeBatchNormBackward0>)\n"
     ]
    }
   ],
   "source": [
    "\n",
    "\n",
    "layer = nn.ConvTranspose2d(\n",
    "    in_channels=3,\n",
    "    out_channels=2,\n",
    "    kernel_size=3\n",
    ")\n",
    "\n",
    "normalization = nn.BatchNorm2d(2) # num_features\n",
    "\n",
    "input = torch.randn(1, 3, 32, 32)\n",
    "\n",
    "output = layer(input)\n",
    "output = normalization(output)\n",
    "print(output)"
   ]
  },
  {
   "cell_type": "code",
   "execution_count": null,
   "metadata": {},
   "outputs": [],
   "source": [
    "\n",
    "# Presentacion de PAPER\n",
    "# Difussion models\n",
    "# Generar images a partir de ruido total\n",
    "\n",
    "\n",
    "# Reproducir un proceso de difusion\n",
    "    # incluir ruido\n",
    "\n",
    "\n",
    "# Aprender a como quitar ruido \n",
    "# Destruir la imagen total (ruido puro)\n",
    "\n",
    "# Gran salto 2015 -> 2020\n",
    "# 2023: expansion\n",
    "\n",
    "\n",
    "\n",
    "\n",
    "# Diferentes arquitecturas\n",
    "# Autoencoders: reducir la dimensionalidad\n",
    "\n",
    "# La realidad es compresible (estadistica)\n",
    "\n",
    "\n",
    "# Enfasis en ruido\n",
    "\n",
    "# Ruido aleatorio\n",
    "# Ruido gaussiano\n",
    "\n"
   ]
  }
 ],
 "metadata": {
  "kernelspec": {
   "display_name": "venv",
   "language": "python",
   "name": "python3"
  },
  "language_info": {
   "codemirror_mode": {
    "name": "ipython",
    "version": 3
   },
   "file_extension": ".py",
   "mimetype": "text/x-python",
   "name": "python",
   "nbconvert_exporter": "python",
   "pygments_lexer": "ipython3",
   "version": "3.12.0"
  }
 },
 "nbformat": 4,
 "nbformat_minor": 2
}
