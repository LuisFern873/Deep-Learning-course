{
 "cells": [
  {
   "cell_type": "markdown",
   "metadata": {},
   "source": [
    "# S2 Deep Learning"
   ]
  },
  {
   "cell_type": "markdown",
   "metadata": {},
   "source": [
    "## nn.Conv2d\n",
    "\n",
    "\n",
    "\n"
   ]
  },
  {
   "cell_type": "markdown",
   "metadata": {},
   "source": [
    "- Kernel size, stride, padding, dilatation controls the dimensions of the output."
   ]
  },
  {
   "cell_type": "code",
   "execution_count": 2,
   "metadata": {},
   "outputs": [],
   "source": [
    "import torch\n",
    "import torch.nn as nn"
   ]
  },
  {
   "cell_type": "code",
   "execution_count": 8,
   "metadata": {},
   "outputs": [
    {
     "name": "stdout",
     "output_type": "stream",
     "text": [
      "torch.Size([1, 2, 3, 3])\n",
      "torch.Size([1, 2, 2, 2])\n",
      "torch.Size([1, 2, 5, 5])\n"
     ]
    }
   ],
   "source": [
    "# Definimos una capa de convolución\n",
    "conv1 = nn.Conv2d(\n",
    "    in_channels=3,\n",
    "    out_channels=2,\n",
    "    kernel_size=3, # 3x3\n",
    "    stride=1\n",
    ")\n",
    "\n",
    "conv2 = nn.Conv2d(\n",
    "    in_channels=3,\n",
    "    out_channels=2,\n",
    "    kernel_size=3, # 3x3\n",
    "    stride=2\n",
    ")\n",
    "\n",
    "conv3 = nn.Conv2d(\n",
    "    in_channels=3,\n",
    "    out_channels=2,\n",
    "    kernel_size=3, # 3x3\n",
    "    stride=1,\n",
    "    padding=1\n",
    ")\n",
    "\n",
    "# Imagen de entrada (batch_size=1, canales=3, alto=5, ancho=5)\n",
    "input_image = torch.randn(1, 3, 5, 5) # 5x5\n",
    "\n",
    "output1 = conv1(input_image)\n",
    "output2 = conv2(input_image)\n",
    "output3 = conv3(input_image)\n",
    "\n",
    "print(output1.shape)  # Salida: (1, 2, 3, 3)\n",
    "print(output2.shape)  # Salida: (1, 2, 2, 2)\n",
    "print(output3.shape)  # Salida: (1, 2, 5, 5)"
   ]
  },
  {
   "cell_type": "markdown",
   "metadata": {},
   "source": [
    "\n",
    "<img src=\"images/image3.png\" height=\"200\"/>\n",
    "<img src=\"images/image4.png\" height=\"200\"/>\n",
    "<img src=\"images/image5.png\" height=\"200\"/>"
   ]
  },
  {
   "cell_type": "markdown",
   "metadata": {},
   "source": [
    "- What about groups?"
   ]
  },
  {
   "cell_type": "code",
   "execution_count": 25,
   "metadata": {},
   "outputs": [
    {
     "name": "stdout",
     "output_type": "stream",
     "text": [
      "torch.Size([1, 4, 3, 3])\n"
     ]
    }
   ],
   "source": [
    "conv4 = nn.Conv2d(\n",
    "    in_channels=8,\n",
    "    out_channels=4, # four filters will be applied!\n",
    "    kernel_size=3,\n",
    "    groups=4 # groups filters\n",
    ")\n",
    "\n",
    "input_image = torch.randn(1, 8, 5, 5)\n",
    "\n",
    "output_image = conv4(input_image)\n",
    "\n",
    "\n",
    "print(output_image.shape)\n"
   ]
  },
  {
   "cell_type": "markdown",
   "metadata": {},
   "source": [
    "<img src=\"images/image7.png\" height=\"300\"/>"
   ]
  },
  {
   "cell_type": "markdown",
   "metadata": {},
   "source": [
    "[Tutorial](https://www.youtube.com/watch?v=n8Mey4o8gLc)"
   ]
  },
  {
   "cell_type": "markdown",
   "metadata": {},
   "source": [
    "## VGG"
   ]
  },
  {
   "cell_type": "code",
   "execution_count": 4,
   "metadata": {},
   "outputs": [],
   "source": [
    "def conv5x5(in_chan,out_chan):\n",
    "    return nn.Sequential(\n",
    "        nn.Conv2d(in_chan,out_chan,kernel_size=3,padding=1),\n",
    "        nn.Conv2d(out_chan,out_chan,kernel_size=3,padding=1),\n",
    "        nn.ReLU(inplace=True),\n",
    "        nn.MaxPool2d(kernel_size=2,stride=2)\n",
    "    )\n",
    "\n",
    "def conv7x7(in_chan,out_chan):\n",
    "      return nn.Sequential(\n",
    "        nn.Conv2d(in_chan,out_chan,kernel_size=3,padding=1),\n",
    "        nn.Conv2d(out_chan,out_chan,kernel_size=3,padding=1),\n",
    "        nn.Conv2d(out_chan,out_chan,kernel_size=3,padding=1),\n",
    "        nn.ReLU(inplace=True),\n",
    "        nn.MaxPool2d(kernel_size=2,stride=2)\n",
    "    )\n",
    "\n",
    "class VGG(nn.Module):\n",
    "    def __init__(self,n_classes):\n",
    "        super(VGG,self).__init__()\n",
    "\n",
    "        self.ConvLayers = nn.Sequential(\n",
    "            conv5x5(3,64),\n",
    "            conv5x5(64,128),\n",
    "            conv7x7(128,256),\n",
    "            conv7x7(256,512),\n",
    "            conv7x7(512,512)\n",
    "        )\n",
    "        self.FC = nn.Sequential(\n",
    "            nn.Linear(4*4*512,4096),\n",
    "            nn.ReLU(inplace=True),\n",
    "            nn.Dropout(p=0.5),\n",
    "            nn.Linear(4096,4096),\n",
    "            nn.ReLU(inplace=True),\n",
    "            nn.Dropout(p=0.5),\n",
    "            nn.Linear(4096,n_classes)\n",
    "        )\n",
    "\n",
    "    def forward(self,x):\n",
    "        \n",
    "        # x: [n_batches, n_channels, height, width]\n",
    "        x = self.ConvLayers(x)\n",
    "        x = torch.flatten(x,1)  # x: [n_batches, n_channels * height * width]\n",
    "        x = self.FC(x)\n",
    "        return x"
   ]
  }
 ],
 "metadata": {
  "kernelspec": {
   "display_name": "venv",
   "language": "python",
   "name": "python3"
  },
  "language_info": {
   "codemirror_mode": {
    "name": "ipython",
    "version": 3
   },
   "file_extension": ".py",
   "mimetype": "text/x-python",
   "name": "python",
   "nbconvert_exporter": "python",
   "pygments_lexer": "ipython3",
   "version": "3.12.0"
  }
 },
 "nbformat": 4,
 "nbformat_minor": 2
}
