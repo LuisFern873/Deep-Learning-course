{
 "cells": [
  {
   "cell_type": "markdown",
   "metadata": {},
   "source": [
    "# Perceptron and backpropagation\n",
    "\n",
    "- Forward pass: compute loss\n",
    "- Backward pass: compute gradient of the loss and abjust parameters (w and b). "
   ]
  },
  {
   "cell_type": "markdown",
   "metadata": {},
   "source": [
    "<img src=\"images/image11.jpg\" width=\"300\"/>\n",
    "\n",
    "<img src=\"images/image12.jpg\" width=\"300\"/>\n",
    "\n",
    "<img src=\"images/image10.jpg\" width=\"300\"/>"
   ]
  },
  {
   "cell_type": "code",
   "execution_count": 2,
   "metadata": {},
   "outputs": [
    {
     "name": "stdout",
     "output_type": "stream",
     "text": [
      "Pérdida antes del entrenamiento: 0.005000002216547728\n",
      "Gradiente de w: 0.20000004768371582\n",
      "Gradiente de b: 0.10000002384185791\n"
     ]
    }
   ],
   "source": [
    "import torch\n",
    "\n",
    "\n",
    "x = torch.tensor([2.0], requires_grad=False)\n",
    "y = torch.tensor([1.0], requires_grad=False)  # Valor esperado\n",
    "\n",
    "# Parameters (weight and bias) que deseamos entrenar\n",
    "w = torch.tensor([0.5], requires_grad=True)\n",
    "b = torch.tensor([0.1], requires_grad=True)\n",
    "\n",
    "# Forward pass\n",
    "z = w * x + b  # z = wx + b\n",
    "a = z          # Sin activación, f(z) = z\n",
    "loss = 0.5 * (a - y) ** 2  # MSE: (1/2)(a - y)^2\n",
    "\n",
    "print(f\"Pérdida antes del entrenamiento: {loss.item()}\")\n",
    "\n",
    "# Backward pass: Cálculo de gradientes\n",
    "loss.backward()\n",
    "\n",
    "# Mostrar gradientes calculados\n",
    "print(f\"Gradiente de w: {w.grad.item()}\")\n",
    "print(f\"Gradiente de b: {b.grad.item()}\")"
   ]
  },
  {
   "cell_type": "code",
   "execution_count": 3,
   "metadata": {},
   "outputs": [
    {
     "name": "stdout",
     "output_type": "stream",
     "text": [
      "Pérdida después del entrenamiento: 0.0012499976437538862\n",
      "Nuevo peso w: 0.47999998927116394\n",
      "Nuevo bias b: 0.08999999612569809\n"
     ]
    }
   ],
   "source": [
    "# Actualización manual de los pesos y bias\n",
    "learning_rate = 0.1\n",
    "with torch.no_grad():  # Evitar que PyTorch rastree estas operaciones\n",
    "    w -= learning_rate * w.grad\n",
    "    b -= learning_rate * b.grad\n",
    "\n",
    "# Limpiar gradientes para el próximo paso\n",
    "w.grad.zero_()\n",
    "b.grad.zero_()\n",
    "\n",
    "# Recalcular la pérdida tras la actualización\n",
    "z = w * x + b\n",
    "a = z\n",
    "loss = 0.5 * (a - y) ** 2\n",
    "\n",
    "print(f\"Pérdida después del entrenamiento: {loss.item()}\")\n",
    "print(f\"Nuevo peso w: {w.item()}\")\n",
    "print(f\"Nuevo bias b: {b.item()}\")\n"
   ]
  }
 ],
 "metadata": {
  "kernelspec": {
   "display_name": "venv",
   "language": "python",
   "name": "python3"
  },
  "language_info": {
   "codemirror_mode": {
    "name": "ipython",
    "version": 3
   },
   "file_extension": ".py",
   "mimetype": "text/x-python",
   "name": "python",
   "nbconvert_exporter": "python",
   "pygments_lexer": "ipython3",
   "version": "3.12.0"
  }
 },
 "nbformat": 4,
 "nbformat_minor": 2
}
