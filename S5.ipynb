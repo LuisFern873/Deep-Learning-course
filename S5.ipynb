{
 "cells": [
  {
   "cell_type": "markdown",
   "metadata": {},
   "source": [
    "## Transposed convolution"
   ]
  },
  {
   "cell_type": "code",
   "execution_count": 1,
   "metadata": {},
   "outputs": [],
   "source": [
    "import torch\n",
    "import torch.nn as nn"
   ]
  },
  {
   "cell_type": "markdown",
   "metadata": {},
   "source": [
    "<img src=\"images/image16.png\" height=\"150\"/>"
   ]
  },
  {
   "cell_type": "code",
   "execution_count": 10,
   "metadata": {},
   "outputs": [
    {
     "name": "stdout",
     "output_type": "stream",
     "text": [
      "tensor([[[[ 0.,  0.,  1.],\n",
      "          [ 0.,  4.,  6.],\n",
      "          [ 4., 12.,  9.]]]], grad_fn=<ConvolutionBackward0>)\n"
     ]
    }
   ],
   "source": [
    "input = torch.tensor([[[[0, 1], [2, 3]]]], dtype=torch.float32)\n",
    "\n",
    "conv = nn.ConvTranspose2d(\n",
    "    in_channels=1,\n",
    "    out_channels=1,\n",
    "    kernel_size=2,\n",
    "    stride=1,\n",
    "    bias=False\n",
    ")\n",
    "\n",
    "conv.weight.data = torch.tensor([[[[0, 1], [2, 3]]]], dtype=torch.float32)\n",
    "\n",
    "output = conv(input)\n",
    "\n",
    "print(output)\n"
   ]
  },
  {
   "cell_type": "markdown",
   "metadata": {},
   "source": [
    "## Pixel Shuffle"
   ]
  },
  {
   "cell_type": "code",
   "execution_count": 11,
   "metadata": {},
   "outputs": [
    {
     "name": "stdout",
     "output_type": "stream",
     "text": [
      "Entrada:\n",
      "tensor([[[[ 1.,  2.],\n",
      "          [ 3.,  4.]],\n",
      "\n",
      "         [[ 5.,  6.],\n",
      "          [ 7.,  8.]],\n",
      "\n",
      "         [[ 9., 10.],\n",
      "          [11., 12.]],\n",
      "\n",
      "         [[13., 14.],\n",
      "          [15., 16.]]]])\n",
      "Salida:\n",
      "tensor([[[[ 1.,  5.,  2.,  6.],\n",
      "          [ 9., 13., 10., 14.],\n",
      "          [ 3.,  7.,  4.,  8.],\n",
      "          [11., 15., 12., 16.]]]])\n"
     ]
    }
   ],
   "source": [
    "input = torch.tensor([[[[1, 2],[3, 4]],[[5, 6],[7, 8]],[[9, 10],[11, 12]],[[13, 14],[15, 16]]]], dtype=torch.float32)\n",
    "\n",
    "pixel_shuffle = nn.PixelShuffle(upscale_factor=2)\n",
    "\n",
    "output = pixel_shuffle(input)\n",
    "\n",
    "print(\"Entrada:\")\n",
    "print(input)\n",
    "print(\"Salida:\")\n",
    "print(output)"
   ]
  },
  {
   "cell_type": "markdown",
   "metadata": {},
   "source": [
    "## U-Net"
   ]
  },
  {
   "cell_type": "markdown",
   "metadata": {},
   "source": [
    "<img src=\"images/image17.png\" height=\"600\"/>"
   ]
  },
  {
   "cell_type": "code",
   "execution_count": 12,
   "metadata": {},
   "outputs": [],
   "source": [
    "def DoubleConv(in_chan,out_chan):\n",
    "    return nn.Sequential(\n",
    "        nn.Conv2d(in_chan,out_chan,kernel_size=3,padding=1),\n",
    "        nn.BatchNorm2d(out_chan),\n",
    "        nn.SiLU(inplace=True),\n",
    "        nn.Conv2d(out_chan,out_chan,kernel_size=3,padding=1),\n",
    "        nn.BatchNorm2d(out_chan),\n",
    "        nn.SiLU(inplace=True),\n",
    "    )"
   ]
  },
  {
   "cell_type": "code",
   "execution_count": 13,
   "metadata": {},
   "outputs": [],
   "source": [
    "class Unet(nn.Module):\n",
    "    def __init__(self, n_chan, n_classes):\n",
    "        super(Unet,self).__init__()\n",
    "\n",
    "        self.enc1  = DoubleConv(n_chan,64)\n",
    "        self.pool1 = nn.MaxPool2d(kernel_size=2,stride=2)\n",
    "\n",
    "        self.enc2  = DoubleConv(64,128)\n",
    "        self.pool2 = nn.MaxPool2d(kernel_size=2,stride=2)\n",
    "\n",
    "        self.enc3  = DoubleConv(128,256)\n",
    "        self.pool3 = nn.MaxPool2d(kernel_size=2,stride=2)\n",
    "\n",
    "        self.enc4  = DoubleConv(256,512)\n",
    "        self.pool4 = nn.MaxPool2d(kernel_size=2,stride=2)\n",
    "\n",
    "        self.bottleneck = DoubleConv(512,1024)\n",
    "\n",
    "        self.up4  = nn.ConvTranspose2d(1024,512,kernel_size=2,stride=2)\n",
    "        self.dec4 = DoubleConv(1024,512)\n",
    "\n",
    "        self.up3  = nn.ConvTranspose2d(512,256,kernel_size=2,stride=2)\n",
    "        self.dec3 = DoubleConv(512,256)\n",
    "\n",
    "        self.up2  = nn.ConvTranspose2d(256,128,kernel_size=2,stride=2)\n",
    "        self.dec2 = DoubleConv(256,128)\n",
    "\n",
    "        self.up1  = nn.ConvTranspose2d(128,64,kernel_size=2,stride=2)\n",
    "        self.dec1 = DoubleConv(128,64)\n",
    "\n",
    "        self.OutLayer = nn.Conv2d(64,n_classes,kernel_size=1)\n",
    "\n",
    "    def forward(self, x):\n",
    "\n",
    "        # down\n",
    "        \n",
    "        z1 = self.enc1(x)\n",
    "        z2 = self.pool1(z1)\n",
    "\n",
    "        z2 = self.enc2(z2)\n",
    "        z3 = self.pool2(z2)\n",
    "\n",
    "        z3 = self.enc3(z3)\n",
    "        z4 = self.pool3(z3)\n",
    "\n",
    "        z4 = self.enc4 (z4)\n",
    "        Z  = self.pool4(z4)\n",
    "        \n",
    "        Z = self.bottleneck(Z)\n",
    "\n",
    "        # up\n",
    "        y = self.up4(Z)\n",
    "        y = torch.cat([y, z4], dim=1) # crop\n",
    "        y = self.dec4(y)\n",
    "\n",
    "        y = self.up3(y)\n",
    "        y = torch.cat([y, z3], dim=1)\n",
    "        y = self.dec3(y)\n",
    "\n",
    "        y = self.up2(y)\n",
    "        y = torch.cat([y, z2], dim=1)\n",
    "        y = self.dec2(y)\n",
    "\n",
    "\n",
    "        y = self.up1(y)\n",
    "        y = torch.cat([y, z1], dim=1)\n",
    "        y = self.dec1(y)\n",
    "\n",
    "        return self.OutLayer(y)"
   ]
  },
  {
   "cell_type": "code",
   "execution_count": 14,
   "metadata": {},
   "outputs": [
    {
     "name": "stdout",
     "output_type": "stream",
     "text": [
      "Unet(\n",
      "  (enc1): Sequential(\n",
      "    (0): Conv2d(3, 64, kernel_size=(3, 3), stride=(1, 1), padding=(1, 1))\n",
      "    (1): BatchNorm2d(64, eps=1e-05, momentum=0.1, affine=True, track_running_stats=True)\n",
      "    (2): SiLU(inplace=True)\n",
      "    (3): Conv2d(64, 64, kernel_size=(3, 3), stride=(1, 1), padding=(1, 1))\n",
      "    (4): BatchNorm2d(64, eps=1e-05, momentum=0.1, affine=True, track_running_stats=True)\n",
      "    (5): SiLU(inplace=True)\n",
      "  )\n",
      "  (pool1): MaxPool2d(kernel_size=2, stride=2, padding=0, dilation=1, ceil_mode=False)\n",
      "  (enc2): Sequential(\n",
      "    (0): Conv2d(64, 128, kernel_size=(3, 3), stride=(1, 1), padding=(1, 1))\n",
      "    (1): BatchNorm2d(128, eps=1e-05, momentum=0.1, affine=True, track_running_stats=True)\n",
      "    (2): SiLU(inplace=True)\n",
      "    (3): Conv2d(128, 128, kernel_size=(3, 3), stride=(1, 1), padding=(1, 1))\n",
      "    (4): BatchNorm2d(128, eps=1e-05, momentum=0.1, affine=True, track_running_stats=True)\n",
      "    (5): SiLU(inplace=True)\n",
      "  )\n",
      "  (pool2): MaxPool2d(kernel_size=2, stride=2, padding=0, dilation=1, ceil_mode=False)\n",
      "  (enc3): Sequential(\n",
      "    (0): Conv2d(128, 256, kernel_size=(3, 3), stride=(1, 1), padding=(1, 1))\n",
      "    (1): BatchNorm2d(256, eps=1e-05, momentum=0.1, affine=True, track_running_stats=True)\n",
      "    (2): SiLU(inplace=True)\n",
      "    (3): Conv2d(256, 256, kernel_size=(3, 3), stride=(1, 1), padding=(1, 1))\n",
      "    (4): BatchNorm2d(256, eps=1e-05, momentum=0.1, affine=True, track_running_stats=True)\n",
      "    (5): SiLU(inplace=True)\n",
      "  )\n",
      "  (pool3): MaxPool2d(kernel_size=2, stride=2, padding=0, dilation=1, ceil_mode=False)\n",
      "  (enc4): Sequential(\n",
      "    (0): Conv2d(256, 512, kernel_size=(3, 3), stride=(1, 1), padding=(1, 1))\n",
      "    (1): BatchNorm2d(512, eps=1e-05, momentum=0.1, affine=True, track_running_stats=True)\n",
      "    (2): SiLU(inplace=True)\n",
      "    (3): Conv2d(512, 512, kernel_size=(3, 3), stride=(1, 1), padding=(1, 1))\n",
      "    (4): BatchNorm2d(512, eps=1e-05, momentum=0.1, affine=True, track_running_stats=True)\n",
      "    (5): SiLU(inplace=True)\n",
      "  )\n",
      "  (pool4): MaxPool2d(kernel_size=2, stride=2, padding=0, dilation=1, ceil_mode=False)\n",
      "  (bottleneck): Sequential(\n",
      "    (0): Conv2d(512, 1024, kernel_size=(3, 3), stride=(1, 1), padding=(1, 1))\n",
      "    (1): BatchNorm2d(1024, eps=1e-05, momentum=0.1, affine=True, track_running_stats=True)\n",
      "    (2): SiLU(inplace=True)\n",
      "    (3): Conv2d(1024, 1024, kernel_size=(3, 3), stride=(1, 1), padding=(1, 1))\n",
      "    (4): BatchNorm2d(1024, eps=1e-05, momentum=0.1, affine=True, track_running_stats=True)\n",
      "    (5): SiLU(inplace=True)\n",
      "  )\n",
      "  (up4): ConvTranspose2d(1024, 512, kernel_size=(2, 2), stride=(2, 2))\n",
      "  (dec4): Sequential(\n",
      "    (0): Conv2d(1024, 512, kernel_size=(3, 3), stride=(1, 1), padding=(1, 1))\n",
      "    (1): BatchNorm2d(512, eps=1e-05, momentum=0.1, affine=True, track_running_stats=True)\n",
      "    (2): SiLU(inplace=True)\n",
      "    (3): Conv2d(512, 512, kernel_size=(3, 3), stride=(1, 1), padding=(1, 1))\n",
      "    (4): BatchNorm2d(512, eps=1e-05, momentum=0.1, affine=True, track_running_stats=True)\n",
      "    (5): SiLU(inplace=True)\n",
      "  )\n",
      "  (up3): ConvTranspose2d(512, 256, kernel_size=(2, 2), stride=(2, 2))\n",
      "  (dec3): Sequential(\n",
      "    (0): Conv2d(512, 256, kernel_size=(3, 3), stride=(1, 1), padding=(1, 1))\n",
      "    (1): BatchNorm2d(256, eps=1e-05, momentum=0.1, affine=True, track_running_stats=True)\n",
      "    (2): SiLU(inplace=True)\n",
      "    (3): Conv2d(256, 256, kernel_size=(3, 3), stride=(1, 1), padding=(1, 1))\n",
      "    (4): BatchNorm2d(256, eps=1e-05, momentum=0.1, affine=True, track_running_stats=True)\n",
      "    (5): SiLU(inplace=True)\n",
      "  )\n",
      "  (up2): ConvTranspose2d(256, 128, kernel_size=(2, 2), stride=(2, 2))\n",
      "  (dec2): Sequential(\n",
      "    (0): Conv2d(256, 128, kernel_size=(3, 3), stride=(1, 1), padding=(1, 1))\n",
      "    (1): BatchNorm2d(128, eps=1e-05, momentum=0.1, affine=True, track_running_stats=True)\n",
      "    (2): SiLU(inplace=True)\n",
      "    (3): Conv2d(128, 128, kernel_size=(3, 3), stride=(1, 1), padding=(1, 1))\n",
      "    (4): BatchNorm2d(128, eps=1e-05, momentum=0.1, affine=True, track_running_stats=True)\n",
      "    (5): SiLU(inplace=True)\n",
      "  )\n",
      "  (up1): ConvTranspose2d(128, 64, kernel_size=(2, 2), stride=(2, 2))\n",
      "  (dec1): Sequential(\n",
      "    (0): Conv2d(128, 64, kernel_size=(3, 3), stride=(1, 1), padding=(1, 1))\n",
      "    (1): BatchNorm2d(64, eps=1e-05, momentum=0.1, affine=True, track_running_stats=True)\n",
      "    (2): SiLU(inplace=True)\n",
      "    (3): Conv2d(64, 64, kernel_size=(3, 3), stride=(1, 1), padding=(1, 1))\n",
      "    (4): BatchNorm2d(64, eps=1e-05, momentum=0.1, affine=True, track_running_stats=True)\n",
      "    (5): SiLU(inplace=True)\n",
      "  )\n",
      "  (OutLayer): Conv2d(64, 10, kernel_size=(1, 1), stride=(1, 1))\n",
      ")\n"
     ]
    }
   ],
   "source": [
    "model = Unet(3,10)\n",
    "print(model)"
   ]
  }
 ],
 "metadata": {
  "kernelspec": {
   "display_name": "venv",
   "language": "python",
   "name": "python3"
  },
  "language_info": {
   "codemirror_mode": {
    "name": "ipython",
    "version": 3
   },
   "file_extension": ".py",
   "mimetype": "text/x-python",
   "name": "python",
   "nbconvert_exporter": "python",
   "pygments_lexer": "ipython3",
   "version": "3.12.0"
  }
 },
 "nbformat": 4,
 "nbformat_minor": 2
}
