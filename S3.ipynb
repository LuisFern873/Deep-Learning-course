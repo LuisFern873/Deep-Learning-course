{
 "cells": [
  {
   "cell_type": "markdown",
   "metadata": {},
   "source": [
    "# Recurrent Neural Networks \n",
    "\n",
    "<img src=\"images/image8.png\" height=\"400\"/>"
   ]
  },
  {
   "cell_type": "markdown",
   "metadata": {},
   "source": [
    "- Input at time step $t$: $x_t$\n",
    "- Ouput at time step $t$: $y_t$\n",
    "\n",
    "$$h_1=\\tanh(W_h h_0 + W_x x_0)$$\n",
    "\n",
    "\n",
    "$$y_1=Sotfmax(W_y h_1)$$"
   ]
  },
  {
   "cell_type": "markdown",
   "metadata": {},
   "source": [
    "<img src=\"images/image9.png\" height=\"400\"/>"
   ]
  },
  {
   "cell_type": "code",
   "execution_count": null,
   "metadata": {},
   "outputs": [],
   "source": [
    "# hidden state\n",
    "\n",
    "# nn.RNN()\n",
    "\n",
    "# input: [n_bacth, n_times, n_features]\n"
   ]
  }
 ],
 "metadata": {
  "language_info": {
   "name": "python"
  }
 },
 "nbformat": 4,
 "nbformat_minor": 2
}
